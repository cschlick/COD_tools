{
 "cells": [
  {
   "cell_type": "code",
   "execution_count": 1,
   "id": "ac0e4881-12ca-4b78-9e8f-ffc0a4222c1e",
   "metadata": {},
   "outputs": [
    {
     "name": "stdout",
     "output_type": "stream",
     "text": [
      "start\n"
     ]
    }
   ],
   "source": [
    "print(\"start\")"
   ]
  },
  {
   "cell_type": "code",
   "execution_count": 2,
   "id": "8e87cdd2-fb4e-49a2-bad3-1dec3334827a",
   "metadata": {},
   "outputs": [
    {
     "name": "stderr",
     "output_type": "stream",
     "text": [
      "<frozen importlib._bootstrap>:241: RuntimeWarning: to-Python converter for std::vector<unsigned int, std::allocator<unsigned int> > already registered; second conversion method ignored.\n",
      "<frozen importlib._bootstrap>:241: RuntimeWarning: to-Python converter for std::vector<double, std::allocator<double> > already registered; second conversion method ignored.\n",
      "/net/cci/cschlick/miniconda3/envs/restraintsML/envs/cod_tools/lib/python3.10/site-packages/tqdm/auto.py:22: TqdmWarning: IProgress not found. Please update jupyter and ipywidgets. See https://ipywidgets.readthedocs.io/en/stable/user_install.html\n",
      "  from .autonotebook import tqdm as notebook_tqdm\n"
     ]
    }
   ],
   "source": [
    "import argparse\n",
    "import tqdm\n",
    "from pathlib import Path\n",
    "import multiprocessing\n",
    "from multiprocessing import Pool\n",
    "\n",
    "import sys\n",
    "sys.path.append(\"../cod_tools/\")\n",
    "from CODFile import CODFile"
   ]
  },
  {
   "cell_type": "code",
   "execution_count": 3,
   "id": "5c8e2634-ff90-49c0-baf0-155ed564207f",
   "metadata": {},
   "outputs": [],
   "source": [
    "# blacklist = [\"/dev/shm/cschlick/COD/cif/4/32/31/4323119.cif\",\n",
    "#              \"/dev/shm/cschlick/COD/cif/4/32/31/4323190.cif\",\n",
    "#              \"/dev/shm/cschlick/COD/cif/4/32/31/4323118.cif\",\n",
    "#              \"/dev/shm/cschlick/COD/cif/4/32/31/4323117.cif\",\n",
    "#               \"/dev/shm/cschlick/COD/cif/4/32/31/4323189.cif\"# pickling errors?\n",
    "            # ]\n",
    "\n",
    "blacklist = []"
   ]
  },
  {
   "cell_type": "code",
   "execution_count": 4,
   "id": "e3ba9e59-daf5-46c9-920c-7b3bcef6fb04",
   "metadata": {},
   "outputs": [],
   "source": [
    "def parallel_map(worker,work, n_workers):\n",
    "\n",
    "  pool = Pool(processes=nproc)\n",
    "\n",
    "  try:\n",
    "      return list(tqdm.tqdm(pool.imap(worker,work),\n",
    "                          total=len(work),\n",
    "                          disable=disable_progress,\n",
    "                          desc=\"nproc=\"+str(nproc)))\n",
    "\n",
    "  except Exception as  e:\n",
    "      print('got exception: %r:, terminating the pool' % (e,))\n",
    "     # p.terminate()\n",
    "      err = e\n",
    "      err = None\n",
    "\n",
    "  if err is not None:\n",
    "      raise err"
   ]
  },
  {
   "cell_type": "code",
   "execution_count": null,
   "id": "e109b525-d3a8-42fa-8d04-74a615976085",
   "metadata": {},
   "outputs": [],
   "source": []
  },
  {
   "cell_type": "code",
   "execution_count": null,
   "id": "0327e5fc-8a9c-418c-974f-2fc42af89aa9",
   "metadata": {},
   "outputs": [
    {
     "name": "stdout",
     "output_type": "stream",
     "text": [
      "Number cif files: 467767\n"
     ]
    },
    {
     "name": "stderr",
     "output_type": "stream",
     "text": [
      "nproc=64:  65%|█████████████████████████████████████████████████████████▌                               | 302843/467767 [09:24<05:54, 465.62it/s]"
     ]
    }
   ],
   "source": [
    "\n",
    "\n",
    "#parser = argparse.ArgumentParser(\n",
    "                    # prog = 'COD filter',\n",
    "                    # description = 'Filter a folder of COD files',\n",
    "                    # epilog = '')\n",
    "#parser.add_argument('--folder', type=str,help=\"Path to COD folder\")\n",
    "#args = parser.parse_args()\n",
    "args = argparse.Namespace()\n",
    "args.folder = \"/dev/shm/cschlick/COD\"\n",
    "\n",
    "\n",
    "\n",
    "cod_dir = Path(args.folder)\n",
    "cif_files = [path for path in cod_dir.glob(\"**/*\") if path.suffix == \".cif\"]\n",
    "print(\"Number cif files:\",len(cif_files))\n",
    "\n",
    "\n",
    "#cif_files = cif_files[214063:214063+10000]\n",
    "work = cif_files\n",
    "\n",
    "### DO WITH MP\n",
    "\n",
    "# cif_files = [f for f in cif_files if str(f) not in blacklist]\n",
    "# print(\"Number cif files (after blacklist):\",len(cif_files))\n",
    "\n",
    "def worker(file):\n",
    "  #print(file)\n",
    "  try:\n",
    "    codfile =  CODFile(file,cod_id=file.stem)\n",
    "    return codfile\n",
    "  except:\n",
    "    return None\n",
    "\n",
    "nproc=64\n",
    "disable_progress = False\n",
    "results = parallel_map(worker,work,nproc)\n",
    "# with Pool(processes=nproc) as pool:\n",
    "#   for result in tqdm.tqdm(pool.map(worker, work),\n",
    "#                           total=len(work),\n",
    "#                           disable=disable_progress,\n",
    "#                           desc=\"nproc=\"+str(nproc)):\n",
    "#       results.append(result)\n",
    "# del pool\n",
    "\n",
    "\n",
    "\n",
    "### DO WITHOUT MP\n",
    "\n",
    "# results = []\n",
    "# for file in tqdm.tqdm(work):\n",
    "#     codfile =  CODFile(file,cod_id=file.stem)\n",
    "#     results.append(codfile)\n",
    "    \n",
    "\n",
    "# Sort CODFile objects depending on how they failed\n",
    "#results = [result for result in results if result is not None]\n",
    "failed_codfiles = [codfile for codfile in results if codfile.failed]\n",
    "failed_messages = [codfile.fail_message for codfile in results if codfile.failed]\n",
    "kept_codfiles = [codfile for codfile in results if not codfile.failed]\n",
    "print(\"Failed:\",len(failed_codfiles))\n",
    "print(\"Kept:\",len(kept_codfiles))\n",
    "\n",
    "\n",
    "fail_counter = {message:0 for message in results[0].failure_messages.values()}\n",
    "for message in failed_messages:\n",
    "  fail_counter[message]+=1\n",
    "  \n",
    "print(\"\\nReasons for failure:\")\n",
    "fail_check = 0\n",
    "for key,value in fail_counter.items():\n",
    "  if value>0:\n",
    "    print(\"  \",key.ljust(60,\" \"),\":\",value)\n",
    "    fail_check+=value\n",
    "#print(\"Fail check:\",fail_check)\n",
    "\n",
    "\n",
    "print(\"Files passing filters:\")\n",
    "for cod_file in kept_codfiles:\n",
    "  #print(cod_file.filepath)\n",
    "  pass\n"
   ]
  },
  {
   "cell_type": "code",
   "execution_count": null,
   "id": "7d1880ea-075a-4ebc-80a7-9e62386113d2",
   "metadata": {},
   "outputs": [],
   "source": [
    "print(\"h\")"
   ]
  },
  {
   "cell_type": "code",
   "execution_count": null,
   "id": "14e0f039-ea58-487f-b634-6a732d377df5",
   "metadata": {},
   "outputs": [],
   "source": []
  }
 ],
 "metadata": {
  "kernelspec": {
   "display_name": "Python 3 (ipykernel)",
   "language": "python",
   "name": "python3"
  },
  "language_info": {
   "codemirror_mode": {
    "name": "ipython",
    "version": 3
   },
   "file_extension": ".py",
   "mimetype": "text/x-python",
   "name": "python",
   "nbconvert_exporter": "python",
   "pygments_lexer": "ipython3",
   "version": "3.10.6"
  }
 },
 "nbformat": 4,
 "nbformat_minor": 5
}
